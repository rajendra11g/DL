{
  "cells": [
    {
      "cell_type": "markdown",
      "metadata": {
        "id": "view-in-github",
        "colab_type": "text"
      },
      "source": [
        "<a href=\"https://colab.research.google.com/github/rajendra11g/DL/blob/main/5_Sparse_Autoencoder_using_L1_Regularization.ipynb\" target=\"_parent\"><img src=\"https://colab.research.google.com/assets/colab-badge.svg\" alt=\"Open In Colab\"/></a>"
      ]
    },
    {
      "cell_type": "code",
      "execution_count": 1,
      "id": "traditional-technical",
      "metadata": {
        "id": "traditional-technical"
      },
      "outputs": [],
      "source": [
        "import keras\n",
        "import numpy as np\n",
        "import matplotlib.pyplot as plt\n",
        "%matplotlib inline\n",
        "from keras.datasets import mnist\n",
        "from keras.models import Model\n",
        "from keras.layers import Input, add, Layer\n",
        "from keras.layers.core import Dense, Dropout, Activation, Flatten, Reshape\n",
        "from keras import regularizers\n",
        "from keras.regularizers import l2\n",
        "from keras.layers.convolutional import Conv2D, MaxPooling2D, UpSampling2D, ZeroPadding2D\n",
        "from keras.utils import np_utils"
      ]
    },
    {
      "cell_type": "code",
      "execution_count": 2,
      "id": "severe-console",
      "metadata": {
        "colab": {
          "base_uri": "https://localhost:8080/"
        },
        "id": "severe-console",
        "outputId": "5fc20c4c-a233-4398-e48b-5c8339b6f6bd"
      },
      "outputs": [
        {
          "output_type": "stream",
          "name": "stdout",
          "text": [
            "Downloading data from https://storage.googleapis.com/tensorflow/tf-keras-datasets/mnist.npz\n",
            "11493376/11490434 [==============================] - 0s 0us/step\n",
            "11501568/11490434 [==============================] - 0s 0us/step\n",
            "X_train shape: (60000, 28, 28, 1)\n",
            "60000 train samples\n",
            "10000 test samples\n"
          ]
        }
      ],
      "source": [
        "nb_classes = 10\n",
        "\n",
        "(X_train, y_train), (X_test, y_test) = mnist.load_data()\n",
        "\n",
        "X_train = X_train.reshape(X_train.shape[0], 28,28,1)\n",
        "X_test = X_test.reshape(X_test.shape[0], 28,28,1)\n",
        "X_train = X_train.astype(\"float32\")/255.\n",
        "X_test = X_test.astype(\"float32\")/255.\n",
        "print('X_train shape:', X_train.shape)\n",
        "print(X_train.shape[0], 'train samples')\n",
        "print(X_test.shape[0], 'test samples')\n",
        "\n",
        "y_train = np_utils.to_categorical(y_train, nb_classes)\n",
        "y_test = np_utils.to_categorical(y_test, nb_classes)"
      ]
    },
    {
      "cell_type": "code",
      "execution_count": 3,
      "id": "fifth-american",
      "metadata": {
        "id": "fifth-american"
      },
      "outputs": [],
      "source": [
        "#Flatten the images for the Fully-Connected Networks\n",
        "X_train = X_train.reshape((len(X_train), np.prod(X_train.shape[1:])))\n",
        "X_test = X_test.reshape((len(X_test), np.prod(X_test.shape[1:])))"
      ]
    },
    {
      "cell_type": "code",
      "execution_count": 4,
      "id": "differential-police",
      "metadata": {
        "id": "differential-police"
      },
      "outputs": [],
      "source": [
        "input_size = 784\n",
        "hidden_size = 32\n",
        "output_size = 784"
      ]
    },
    {
      "cell_type": "code",
      "execution_count": 5,
      "id": "formed-canberra",
      "metadata": {
        "id": "formed-canberra"
      },
      "outputs": [],
      "source": [
        "x = Input(shape=(input_size,))\n",
        "h = Dense(hidden_size, activation='relu', activity_regularizer=regularizers.l1(10e-10))(x)\n",
        "r = Dense(output_size, activation='relu')(h)\n",
        "\n",
        "autoencoder = Model(x,r)\n",
        "autoencoder.compile(optimizer='adam', loss='mse')\n"
      ]
    },
    {
      "cell_type": "code",
      "execution_count": 6,
      "id": "comparable-winner",
      "metadata": {
        "colab": {
          "base_uri": "https://localhost:8080/"
        },
        "id": "comparable-winner",
        "outputId": "98061c49-fa42-4e85-9fac-da189d3d4054"
      },
      "outputs": [
        {
          "output_type": "stream",
          "name": "stdout",
          "text": [
            "Model: \"model\"\n",
            "_________________________________________________________________\n",
            " Layer (type)                Output Shape              Param #   \n",
            "=================================================================\n",
            " input_1 (InputLayer)        [(None, 784)]             0         \n",
            "                                                                 \n",
            " dense (Dense)               (None, 32)                25120     \n",
            "                                                                 \n",
            " dense_1 (Dense)             (None, 784)               25872     \n",
            "                                                                 \n",
            "=================================================================\n",
            "Total params: 50,992\n",
            "Trainable params: 50,992\n",
            "Non-trainable params: 0\n",
            "_________________________________________________________________\n",
            "None\n"
          ]
        }
      ],
      "source": [
        "print(autoencoder.summary())"
      ]
    },
    {
      "cell_type": "code",
      "execution_count": 7,
      "id": "violent-south",
      "metadata": {
        "colab": {
          "base_uri": "https://localhost:8080/"
        },
        "id": "violent-south",
        "outputId": "ecd548a6-9a14-4c6a-a27a-1d04cbc3f46d"
      },
      "outputs": [
        {
          "output_type": "stream",
          "name": "stdout",
          "text": [
            "Epoch 1/50\n",
            "60/60 [==============================] - 2s 18ms/step - loss: 0.0679 - val_loss: 0.0479\n",
            "Epoch 2/50\n",
            "60/60 [==============================] - 1s 16ms/step - loss: 0.0384 - val_loss: 0.0312\n",
            "Epoch 3/50\n",
            "60/60 [==============================] - 1s 16ms/step - loss: 0.0280 - val_loss: 0.0245\n",
            "Epoch 4/50\n",
            "60/60 [==============================] - 1s 16ms/step - loss: 0.0231 - val_loss: 0.0210\n",
            "Epoch 5/50\n",
            "60/60 [==============================] - 1s 16ms/step - loss: 0.0203 - val_loss: 0.0188\n",
            "Epoch 6/50\n",
            "60/60 [==============================] - 1s 16ms/step - loss: 0.0185 - val_loss: 0.0174\n",
            "Epoch 7/50\n",
            "60/60 [==============================] - 1s 16ms/step - loss: 0.0174 - val_loss: 0.0165\n",
            "Epoch 8/50\n",
            "60/60 [==============================] - 1s 17ms/step - loss: 0.0167 - val_loss: 0.0159\n",
            "Epoch 9/50\n",
            "60/60 [==============================] - 1s 17ms/step - loss: 0.0162 - val_loss: 0.0156\n",
            "Epoch 10/50\n",
            "60/60 [==============================] - 1s 16ms/step - loss: 0.0158 - val_loss: 0.0153\n",
            "Epoch 11/50\n",
            "60/60 [==============================] - 1s 17ms/step - loss: 0.0156 - val_loss: 0.0151\n",
            "Epoch 12/50\n",
            "60/60 [==============================] - 1s 16ms/step - loss: 0.0154 - val_loss: 0.0150\n",
            "Epoch 13/50\n",
            "60/60 [==============================] - 1s 16ms/step - loss: 0.0153 - val_loss: 0.0148\n",
            "Epoch 14/50\n",
            "60/60 [==============================] - 1s 16ms/step - loss: 0.0152 - val_loss: 0.0147\n",
            "Epoch 15/50\n",
            "60/60 [==============================] - 1s 17ms/step - loss: 0.0151 - val_loss: 0.0147\n",
            "Epoch 16/50\n",
            "60/60 [==============================] - 1s 16ms/step - loss: 0.0150 - val_loss: 0.0146\n",
            "Epoch 17/50\n",
            "60/60 [==============================] - 1s 17ms/step - loss: 0.0150 - val_loss: 0.0146\n",
            "Epoch 18/50\n",
            "60/60 [==============================] - 1s 17ms/step - loss: 0.0149 - val_loss: 0.0145\n",
            "Epoch 19/50\n",
            "60/60 [==============================] - 1s 17ms/step - loss: 0.0149 - val_loss: 0.0144\n",
            "Epoch 20/50\n",
            "60/60 [==============================] - 1s 17ms/step - loss: 0.0146 - val_loss: 0.0141\n",
            "Epoch 21/50\n",
            "60/60 [==============================] - 1s 16ms/step - loss: 0.0144 - val_loss: 0.0139\n",
            "Epoch 22/50\n",
            "60/60 [==============================] - 1s 17ms/step - loss: 0.0142 - val_loss: 0.0137\n",
            "Epoch 23/50\n",
            "60/60 [==============================] - 1s 16ms/step - loss: 0.0140 - val_loss: 0.0137\n",
            "Epoch 24/50\n",
            "60/60 [==============================] - 1s 16ms/step - loss: 0.0140 - val_loss: 0.0136\n",
            "Epoch 25/50\n",
            "60/60 [==============================] - 1s 16ms/step - loss: 0.0139 - val_loss: 0.0136\n",
            "Epoch 26/50\n",
            "60/60 [==============================] - 1s 17ms/step - loss: 0.0138 - val_loss: 0.0133\n",
            "Epoch 27/50\n",
            "60/60 [==============================] - 1s 17ms/step - loss: 0.0136 - val_loss: 0.0132\n",
            "Epoch 28/50\n",
            "60/60 [==============================] - 1s 17ms/step - loss: 0.0136 - val_loss: 0.0132\n",
            "Epoch 29/50\n",
            "60/60 [==============================] - 1s 17ms/step - loss: 0.0135 - val_loss: 0.0132\n",
            "Epoch 30/50\n",
            "60/60 [==============================] - 1s 16ms/step - loss: 0.0135 - val_loss: 0.0132\n",
            "Epoch 31/50\n",
            "60/60 [==============================] - 1s 16ms/step - loss: 0.0135 - val_loss: 0.0132\n",
            "Epoch 32/50\n",
            "60/60 [==============================] - 1s 16ms/step - loss: 0.0135 - val_loss: 0.0132\n",
            "Epoch 33/50\n",
            "60/60 [==============================] - 1s 17ms/step - loss: 0.0135 - val_loss: 0.0131\n",
            "Epoch 34/50\n",
            "60/60 [==============================] - 1s 17ms/step - loss: 0.0135 - val_loss: 0.0131\n",
            "Epoch 35/50\n",
            "60/60 [==============================] - 1s 16ms/step - loss: 0.0135 - val_loss: 0.0131\n",
            "Epoch 36/50\n",
            "60/60 [==============================] - 1s 17ms/step - loss: 0.0135 - val_loss: 0.0131\n",
            "Epoch 37/50\n",
            "60/60 [==============================] - 1s 16ms/step - loss: 0.0135 - val_loss: 0.0131\n",
            "Epoch 38/50\n",
            "60/60 [==============================] - 1s 16ms/step - loss: 0.0135 - val_loss: 0.0131\n",
            "Epoch 39/50\n",
            "60/60 [==============================] - 1s 16ms/step - loss: 0.0135 - val_loss: 0.0131\n",
            "Epoch 40/50\n",
            "60/60 [==============================] - 1s 16ms/step - loss: 0.0135 - val_loss: 0.0131\n",
            "Epoch 41/50\n",
            "60/60 [==============================] - 1s 17ms/step - loss: 0.0135 - val_loss: 0.0131\n",
            "Epoch 42/50\n",
            "60/60 [==============================] - 1s 16ms/step - loss: 0.0135 - val_loss: 0.0131\n",
            "Epoch 43/50\n",
            "60/60 [==============================] - 1s 16ms/step - loss: 0.0135 - val_loss: 0.0131\n",
            "Epoch 44/50\n",
            "60/60 [==============================] - 1s 16ms/step - loss: 0.0134 - val_loss: 0.0131\n",
            "Epoch 45/50\n",
            "60/60 [==============================] - 1s 16ms/step - loss: 0.0134 - val_loss: 0.0131\n",
            "Epoch 46/50\n",
            "60/60 [==============================] - 1s 16ms/step - loss: 0.0134 - val_loss: 0.0131\n",
            "Epoch 47/50\n",
            "60/60 [==============================] - 1s 17ms/step - loss: 0.0134 - val_loss: 0.0131\n",
            "Epoch 48/50\n",
            "60/60 [==============================] - 1s 16ms/step - loss: 0.0134 - val_loss: 0.0131\n",
            "Epoch 49/50\n",
            "60/60 [==============================] - 1s 16ms/step - loss: 0.0134 - val_loss: 0.0131\n",
            "Epoch 50/50\n",
            "60/60 [==============================] - 1s 16ms/step - loss: 0.0134 - val_loss: 0.0131\n"
          ]
        }
      ],
      "source": [
        "epochs = 50\n",
        "batch_size = 1000\n",
        "\n",
        "history = autoencoder.fit(X_train, X_train, batch_size=batch_size, epochs=epochs, verbose=1, validation_data=(X_test, X_test))"
      ]
    },
    {
      "cell_type": "code",
      "execution_count": 8,
      "id": "mexican-rwanda",
      "metadata": {
        "id": "mexican-rwanda"
      },
      "outputs": [],
      "source": [
        "decoded_imgs = autoencoder.predict(X_test)"
      ]
    },
    {
      "cell_type": "code",
      "execution_count": 9,
      "id": "radio-jason",
      "metadata": {
        "colab": {
          "base_uri": "https://localhost:8080/",
          "height": 244
        },
        "id": "radio-jason",
        "outputId": "c2173268-7d3d-4c0b-9b94-bdbe22eb828b"
      },
      "outputs": [
        {
          "output_type": "display_data",
          "data": {
            "text/plain": [
              "<Figure size 1440x432 with 20 Axes>"
            ],
            "image/png": "[encoded data removed]"
          },
          "metadata": {
            "needs_background": "light"
          }
        }
      ],
      "source": [
        "# Display Original and reconstructed images\n",
        "n = 10\n",
        "plt.figure(figsize=(20, 6))\n",
        "\n",
        "for i in range(n):\n",
        "    # display original\n",
        "    ax = plt.subplot(3, n, i+1)\n",
        "    plt.imshow(X_test[i].reshape(28, 28))\n",
        "    plt.gray()\n",
        "    ax.get_xaxis().set_visible(False)\n",
        "    ax.get_yaxis().set_visible(False)\n",
        "    \n",
        "    # display reconstruction\n",
        "    ax = plt.subplot(3, n, i+n+1)\n",
        "    plt.imshow(decoded_imgs[i].reshape(28, 28))\n",
        "    plt.gray()\n",
        "    \n",
        "    ax.get_xaxis().set_visible(False)\n",
        "    ax.get_yaxis().set_visible(False)\n",
        "    \n",
        "plt.show()"
      ]
    },
    {
      "cell_type": "code",
      "execution_count": 10,
      "id": "intended-linux",
      "metadata": {
        "colab": {
          "base_uri": "https://localhost:8080/",
          "height": 404
        },
        "id": "intended-linux",
        "outputId": "4c95e667-1097-4f52-827d-1cdc32451c54"
      },
      "outputs": [
        {
          "output_type": "display_data",
          "data": {
            "text/plain": [
              "<Figure size 720x432 with 1 Axes>"
            ],
            "image/png": "[encoded data removed]"
          },
          "metadata": {
            "needs_background": "light"
          }
        }
      ],
      "source": [
        "fig=plt.figure(figsize=(10,6))\n",
        "plt.plot(history.history['loss'])\n",
        "plt.plot(history.history['val_loss'])\n",
        "plt.title('model loss')\n",
        "plt.ylabel('loss')\n",
        "plt.xlabel('epoch')\n",
        "plt.legend(['train', 'validation'], loc='upper right')\n",
        "plt.show()"
      ]
    },
    {
      "cell_type": "code",
      "execution_count": null,
      "id": "palestinian-joint",
      "metadata": {
        "id": "palestinian-joint"
      },
      "outputs": [],
      "source": [
        ""
      ]
    },
    {
      "cell_type": "code",
      "execution_count": null,
      "id": "major-surgery",
      "metadata": {
        "id": "major-surgery"
      },
      "outputs": [],
      "source": [
        ""
      ]
    }
  ],
  "metadata": {
    "kernelspec": {
      "display_name": "Python 3 (ipykernel)",
      "language": "python",
      "name": "python3"
    },
    "language_info": {
      "codemirror_mode": {
        "name": "ipython",
        "version": 3
      },
      "file_extension": ".py",
      "mimetype": "text/x-python",
      "name": "python",
      "nbconvert_exporter": "python",
      "pygments_lexer": "ipython3",
      "version": "3.10.4"
    },
    "colab": {
      "name": "5_Sparse Autoencoder using L1 Regularization.ipynb",
      "provenance": [],
      "collapsed_sections": [],
      "include_colab_link": true
    }
  },
  "nbformat": 4,
  "nbformat_minor": 5
}