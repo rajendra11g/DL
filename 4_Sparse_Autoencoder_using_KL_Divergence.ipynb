{
  "cells": [
    {
      "cell_type": "markdown",
      "metadata": {
        "id": "view-in-github",
        "colab_type": "text"
      },
      "source": [
        "<a href=\"https://colab.research.google.com/github/rajendra11g/DL/blob/main/4_Sparse_Autoencoder_using_KL_Divergence.ipynb\" target=\"_parent\"><img src=\"https://colab.research.google.com/assets/colab-badge.svg\" alt=\"Open In Colab\"/></a>"
      ]
    },
    {
      "cell_type": "code",
      "execution_count": 2,
      "id": "interpreted-crossing",
      "metadata": {
        "id": "interpreted-crossing"
      },
      "outputs": [],
      "source": [
        "from tensorflow.keras.models import Model\n",
        "from tensorflow.keras.layers import Input, Dense, Conv2D, MaxPooling2D, UpSampling2D\n",
        "from tensorflow.keras import backend as K\n",
        "from tensorflow.keras import regularizers\n",
        "import tensorflow as tf\n",
        "#plotting\n",
        "import matplotlib.pyplot as plt\n",
        "%matplotlib inline\n",
        "#dataset\n",
        "from keras.datasets import mnist\n",
        "import numpy as np"
      ]
    },
    {
      "cell_type": "code",
      "execution_count": 3,
      "id": "durable-court",
      "metadata": {
        "colab": {
          "base_uri": "https://localhost:8080/"
        },
        "id": "durable-court",
        "outputId": "1596b1cc-6d0c-444b-bf73-fe473cc499af"
      },
      "outputs": [
        {
          "output_type": "stream",
          "name": "stdout",
          "text": [
            "Downloading data from https://storage.googleapis.com/tensorflow/tf-keras-datasets/mnist.npz\n",
            "11493376/11490434 [==============================] - 0s 0us/step\n",
            "11501568/11490434 [==============================] - 0s 0us/step\n",
            "(60000, 784) (10000, 784)\n"
          ]
        }
      ],
      "source": [
        "(x_train, _), (x_test, _) = mnist.load_data()\n",
        "x_train = x_train.astype('float32') / 255\n",
        "x_test = x_test.astype('float32') / 255\n",
        "x_train = x_train.reshape((len(x_train), np.prod(x_train.shape[1:])))\n",
        "x_test = x_test.reshape((len(x_test), np.prod(x_test.shape[1:])))\n",
        "print(x_train.shape, x_test.shape)"
      ]
    },
    {
      "cell_type": "markdown",
      "id": "pressing-section",
      "metadata": {
        "id": "pressing-section"
      },
      "source": [
        "# Define the Sparse Regularizer"
      ]
    },
    {
      "cell_type": "code",
      "execution_count": 4,
      "id": "sensitive-wonder",
      "metadata": {
        "id": "sensitive-wonder"
      },
      "outputs": [],
      "source": [
        "def sparse_regularizer(activation_matrix):\n",
        "    p = 10e-5\n",
        "    beta = 3\n",
        "    p_hat = K.mean(activation_matrix) \n",
        "  \n",
        "    KL_divergence = p*(K.log(p/p_hat)) + (1-p)*(K.log(1-p/1-p_hat))\n",
        "    \n",
        "    sum = K.sum(KL_divergence) \n",
        "   \n",
        "    return beta * sum"
      ]
    },
    {
      "cell_type": "code",
      "execution_count": 5,
      "id": "chicken-playlist",
      "metadata": {
        "id": "chicken-playlist"
      },
      "outputs": [],
      "source": [
        "encoding_dim = 200\n",
        "lambda_ = 10e-5\n",
        "input_img = Input(shape=(784,))\n",
        "\n",
        "#Define the encoder which takes the images as the inputs and returns the code:\n",
        "\n",
        "encoder = Dense(encoding_dim, \n",
        "                activation='relu',\n",
        "                kernel_regularizer=regularizers.l2(lambda_/2),activity_regularizer=sparse_regularizer)(input_img)"
      ]
    },
    {
      "cell_type": "code",
      "execution_count": 6,
      "id": "prescribed-instruction",
      "metadata": {
        "id": "prescribed-instruction"
      },
      "outputs": [],
      "source": [
        "decoder = Dense(784,\n",
        "                activation='relu',\n",
        "                kernel_regularizer=regularizers.l2(lambda_/2),activity_regularizer=sparse_regularizer)(encoder)"
      ]
    },
    {
      "cell_type": "code",
      "execution_count": 7,
      "id": "posted-delivery",
      "metadata": {
        "colab": {
          "base_uri": "https://localhost:8080/"
        },
        "id": "posted-delivery",
        "outputId": "b764a609-93b2-4abd-d4d3-0f285469dcac"
      },
      "outputs": [
        {
          "output_type": "stream",
          "name": "stdout",
          "text": [
            "Model: \"model\"\n",
            "_________________________________________________________________\n",
            " Layer (type)                Output Shape              Param #   \n",
            "=================================================================\n",
            " input_1 (InputLayer)        [(None, 784)]             0         \n",
            "                                                                 \n",
            " dense (Dense)               (None, 200)               157000    \n",
            "                                                                 \n",
            " dense_1 (Dense)             (None, 784)               157584    \n",
            "                                                                 \n",
            "=================================================================\n",
            "Total params: 314,584\n",
            "Trainable params: 314,584\n",
            "Non-trainable params: 0\n",
            "_________________________________________________________________\n"
          ]
        }
      ],
      "source": [
        "model = Model(input_img, decoder)\n",
        "model.summary()"
      ]
    },
    {
      "cell_type": "code",
      "execution_count": 8,
      "id": "applicable-coffee",
      "metadata": {
        "id": "applicable-coffee"
      },
      "outputs": [],
      "source": [
        "model.compile(optimizer='adam', loss='mse')"
      ]
    },
    {
      "cell_type": "code",
      "execution_count": 9,
      "id": "fatty-turkey",
      "metadata": {
        "colab": {
          "base_uri": "https://localhost:8080/"
        },
        "id": "fatty-turkey",
        "outputId": "f0222add-be2c-4558-b9a9-b3a30277504a"
      },
      "outputs": [
        {
          "output_type": "stream",
          "name": "stdout",
          "text": [
            "Epoch 1/15\n",
            "6/6 [==============================] - 4s 427ms/step - loss: 0.1250 - val_loss: 0.1074\n",
            "Epoch 2/15\n",
            "6/6 [==============================] - 2s 387ms/step - loss: 0.0996 - val_loss: 0.0900\n",
            "Epoch 3/15\n",
            "6/6 [==============================] - 2s 395ms/step - loss: 0.0855 - val_loss: 0.0792\n",
            "Epoch 4/15\n",
            "6/6 [==============================] - 2s 383ms/step - loss: 0.0748 - val_loss: 0.0684\n",
            "Epoch 5/15\n",
            "6/6 [==============================] - 2s 386ms/step - loss: 0.0645 - val_loss: 0.0586\n",
            "Epoch 6/15\n",
            "6/6 [==============================] - 2s 386ms/step - loss: 0.0557 - val_loss: 0.0509\n",
            "Epoch 7/15\n",
            "6/6 [==============================] - 2s 385ms/step - loss: 0.0488 - val_loss: 0.0448\n",
            "Epoch 8/15\n",
            "6/6 [==============================] - 2s 389ms/step - loss: 0.0432 - val_loss: 0.0399\n",
            "Epoch 9/15\n",
            "6/6 [==============================] - 2s 410ms/step - loss: 0.0386 - val_loss: 0.0358\n",
            "Epoch 10/15\n",
            "6/6 [==============================] - 3s 436ms/step - loss: 0.0349 - val_loss: 0.0325\n",
            "Epoch 11/15\n",
            "6/6 [==============================] - 3s 509ms/step - loss: 0.0318 - val_loss: 0.0298\n",
            "Epoch 12/15\n",
            "6/6 [==============================] - 2s 387ms/step - loss: 0.0293 - val_loss: 0.0276\n",
            "Epoch 13/15\n",
            "6/6 [==============================] - 2s 388ms/step - loss: 0.0272 - val_loss: 0.0257\n",
            "Epoch 14/15\n",
            "6/6 [==============================] - 2s 384ms/step - loss: 0.0255 - val_loss: 0.0242\n",
            "Epoch 15/15\n",
            "6/6 [==============================] - 2s 382ms/step - loss: 0.0240 - val_loss: 0.0228\n"
          ]
        }
      ],
      "source": [
        "hist=model.fit(x_train, x_train, epochs=15, batch_size=10000, shuffle=True, validation_data=(x_test, x_test))"
      ]
    },
    {
      "cell_type": "code",
      "execution_count": 10,
      "id": "valid-halloween",
      "metadata": {
        "id": "valid-halloween"
      },
      "outputs": [],
      "source": [
        "decoded_img = model.predict(x_test)"
      ]
    },
    {
      "cell_type": "code",
      "execution_count": 11,
      "id": "altered-literature",
      "metadata": {
        "colab": {
          "base_uri": "https://localhost:8080/",
          "height": 244
        },
        "id": "altered-literature",
        "outputId": "1b14365c-fc5b-40c0-e3ec-808a0908b1f6"
      },
      "outputs": [
        {
          "output_type": "display_data",
          "data": {
            "text/plain": [
              "<Figure size 1440x432 with 20 Axes>"
            ],
            "image/png": "[encoded data removed]"
          },
          "metadata": {
            "needs_background": "light"
          }
        }
      ],
      "source": [
        "# Display Original and reconstructed images\n",
        "n = 10\n",
        "plt.figure(figsize=(20, 6))\n",
        "\n",
        "for i in range(n):\n",
        "    # display original\n",
        "    ax = plt.subplot(3, n, i+1)\n",
        "    plt.imshow(x_test[i].reshape(28, 28))\n",
        "    plt.gray()\n",
        "    ax.get_xaxis().set_visible(False)\n",
        "    ax.get_yaxis().set_visible(False)\n",
        "\n",
        "    # display reconstruction\n",
        "    ax = plt.subplot(3, n, i+n+1)\n",
        "    plt.imshow(decoded_img[i].reshape(28, 28))\n",
        "    plt.gray()\n",
        "    \n",
        "    ax.get_xaxis().set_visible(False)\n",
        "    ax.get_yaxis().set_visible(False)\n",
        "    \n",
        "plt.show()"
      ]
    },
    {
      "cell_type": "code",
      "execution_count": 12,
      "id": "lined-penny",
      "metadata": {
        "colab": {
          "base_uri": "https://localhost:8080/",
          "height": 404
        },
        "id": "lined-penny",
        "outputId": "55030445-06d3-43b8-9122-e78ccea1af02"
      },
      "outputs": [
        {
          "output_type": "display_data",
          "data": {
            "text/plain": [
              "<Figure size 720x432 with 1 Axes>"
            ],
            "image/png": "[encoded data removed]"
          },
          "metadata": {
            "needs_background": "light"
          }
        }
      ],
      "source": [
        "fig=plt.figure(figsize=(10,6))\n",
        "plt.plot(hist.history['loss'])\n",
        "plt.plot(hist.history['val_loss'])\n",
        "plt.title('model loss')\n",
        "plt.ylabel('loss')\n",
        "plt.xlabel('epoch')\n",
        "plt.legend(['train', 'validation'], loc='upper right')\n",
        "plt.show()"
      ]
    },
    {
      "cell_type": "code",
      "execution_count": 12,
      "id": "devoted-battery",
      "metadata": {
        "id": "devoted-battery"
      },
      "outputs": [],
      "source": [
        ""
      ]
    },
    {
      "cell_type": "code",
      "source": [
        ""
      ],
      "metadata": {
        "id": "yub19ZSAdNuu"
      },
      "id": "yub19ZSAdNuu",
      "execution_count": null,
      "outputs": []
    },
    {
      "cell_type": "code",
      "execution_count": null,
      "id": "approved-excitement",
      "metadata": {
        "id": "approved-excitement"
      },
      "outputs": [],
      "source": [
        ""
      ]
    },
    {
      "cell_type": "code",
      "execution_count": null,
      "id": "marine-gateway",
      "metadata": {
        "id": "marine-gateway"
      },
      "outputs": [],
      "source": [
        ""
      ]
    }
  ],
  "metadata": {
    "kernelspec": {
      "display_name": "Python 3 (ipykernel)",
      "language": "python",
      "name": "python3"
    },
    "language_info": {
      "codemirror_mode": {
        "name": "ipython",
        "version": 3
      },
      "file_extension": ".py",
      "mimetype": "text/x-python",
      "name": "python",
      "nbconvert_exporter": "python",
      "pygments_lexer": "ipython3",
      "version": "3.7.13"
    },
    "colab": {
      "name": "4_Sparse Autoencoder using KL Divergence.ipynb",
      "provenance": [],
      "collapsed_sections": [],
      "include_colab_link": true
    }
  },
  "nbformat": 4,
  "nbformat_minor": 5
}